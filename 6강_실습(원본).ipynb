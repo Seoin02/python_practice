{
  "nbformat": 4,
  "nbformat_minor": 0,
  "metadata": {
    "colab": {
      "provenance": [],
      "include_colab_link": true
    },
    "kernelspec": {
      "name": "python3",
      "display_name": "Python 3"
    },
    "language_info": {
      "name": "python"
    }
  },
  "cells": [
    {
      "cell_type": "markdown",
      "metadata": {
        "id": "view-in-github",
        "colab_type": "text"
      },
      "source": [
        "<a href=\"https://colab.research.google.com/github/Seoin02/python_practice/blob/main/6%EA%B0%95_%EC%8B%A4%EC%8A%B5(%EC%9B%90%EB%B3%B8).ipynb\" target=\"_parent\"><img src=\"https://colab.research.google.com/assets/colab-badge.svg\" alt=\"Open In Colab\"/></a>"
      ]
    },
    {
      "cell_type": "markdown",
      "source": [
        "# 6장 1절"
      ],
      "metadata": {
        "id": "hckgpz65oDBv"
      }
    },
    {
      "cell_type": "code",
      "execution_count": 2,
      "metadata": {
        "id": "ZW1w8qQHoAm3",
        "outputId": "1927e878-12b5-4049-c779-8a2eaf851691",
        "colab": {
          "base_uri": "https://localhost:8080/"
        }
      },
      "outputs": [
        {
          "output_type": "stream",
          "name": "stdout",
          "text": [
            "반지름을 입력하세요:-2\n",
            "높이를 입력하세요:-3\n",
            "반지름과 높이의 값을 모두 양수로 입력해주세요\n"
          ]
        }
      ],
      "source": [
        "#반지름 사용자 입력\n",
        "rad = int(input(\"반지름을 입력하세요:\"))\n",
        "#높이 사용자 입력\n",
        "hei = int(input(\"높이를 입력하세요:\"))\n",
        "\n",
        "if rad > 0 and hei > 0 :\n",
        "    #부피&겉넓이 계산\n",
        "    vol = 1/3 * 3.14 * rad ** 2 * hei\n",
        "    suf = 3.14 * rad ** 2 + 3.14 * rad * hei\n",
        "    print(\"원뿔의 부피는\" ,vol, \"입니다.\")\n",
        "    print(\"원뿔의 겉넓이는\" ,suf, \"입니다.\")\n",
        "else:\n",
        "    print(\"반지름과 높이의 값을 모두 양수로 입력해주세요\")"
      ]
    },
    {
      "cell_type": "markdown",
      "source": [],
      "metadata": {
        "id": "gIxdfGagpB53"
      }
    },
    {
      "cell_type": "markdown",
      "source": [
        "# 6강 2절"
      ],
      "metadata": {
        "id": "cquz2vj9oGml"
      }
    },
    {
      "cell_type": "markdown",
      "source": [
        "가장 큰 수 찾는 프로그램"
      ],
      "metadata": {
        "id": "_2ZlVieZpKuT"
      }
    },
    {
      "cell_type": "code",
      "source": [
        "# A, B, C 사용자 입력\n",
        "A = int(input(\"A 입력: \"))\n",
        "B = int(input(\"B 입력: \"))\n",
        "C = int(input(\"C 입력: \"))\n",
        "\n",
        "if A > B :\n",
        "    if A > C :\n",
        "        print(A)\n",
        "    else:\n",
        "        print(C)\n",
        "else :\n",
        "    if B > C :\n",
        "        print(B)\n",
        "    else:\n",
        "        print(C)"
      ],
      "metadata": {
        "id": "SuPkvKRSoJBE",
        "outputId": "56d7961d-1cfc-4a40-b315-26a49ac3dd0e",
        "colab": {
          "base_uri": "https://localhost:8080/"
        }
      },
      "execution_count": 5,
      "outputs": [
        {
          "output_type": "stream",
          "name": "stdout",
          "text": [
            "A 입력: 2\n",
            "B 입력: 3\n",
            "C 입력: 6\n",
            "6\n"
          ]
        }
      ]
    }
  ]
}