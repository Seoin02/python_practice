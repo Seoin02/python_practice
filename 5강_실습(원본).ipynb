{
  "nbformat": 4,
  "nbformat_minor": 0,
  "metadata": {
    "colab": {
      "provenance": [],
      "include_colab_link": true
    },
    "kernelspec": {
      "name": "python3",
      "display_name": "Python 3"
    },
    "language_info": {
      "name": "python"
    }
  },
  "cells": [
    {
      "cell_type": "markdown",
      "metadata": {
        "id": "view-in-github",
        "colab_type": "text"
      },
      "source": [
        "<a href=\"https://colab.research.google.com/github/Seoin02/python_practice/blob/main/5%EA%B0%95_%EC%8B%A4%EC%8A%B5(%EC%9B%90%EB%B3%B8).ipynb\" target=\"_parent\"><img src=\"https://colab.research.google.com/assets/colab-badge.svg\" alt=\"Open In Colab\"/></a>"
      ]
    },
    {
      "cell_type": "markdown",
      "source": [
        "# 5강 2절"
      ],
      "metadata": {
        "id": "QaMMtoihlN9D"
      }
    },
    {
      "cell_type": "markdown",
      "source": [
        "삼각형 출력하기"
      ],
      "metadata": {
        "id": "zsVGhzcxlSh2"
      }
    },
    {
      "cell_type": "code",
      "execution_count": 2,
      "metadata": {
        "id": "Uzg7FWgclGzv",
        "outputId": "f5a827c4-02df-471a-d0f1-63476f859d27",
        "colab": {
          "base_uri": "https://localhost:8080/"
        }
      },
      "outputs": [
        {
          "output_type": "stream",
          "name": "stdout",
          "text": [
            "   *\n",
            "  ***\n",
            " *****\n",
            "*******\n"
          ]
        }
      ],
      "source": [
        "print(\"   *\")\n",
        "print(\"  ***\")\n",
        "print(\" *****\")\n",
        "print(\"*******\")"
      ]
    },
    {
      "cell_type": "code",
      "source": [
        "rad = input(\"반지름의 값을 입력하세요: \")"
      ],
      "metadata": {
        "id": "o44-6T7-xlFy",
        "outputId": "d39d69dc-1fe1-4eac-bbda-b3710ff4e193",
        "colab": {
          "base_uri": "https://localhost:8080/"
        }
      },
      "execution_count": 6,
      "outputs": [
        {
          "name": "stdout",
          "output_type": "stream",
          "text": [
            "반지름의 값을 입력하세요: 30\n"
          ]
        }
      ]
    },
    {
      "cell_type": "markdown",
      "source": [
        "원뿔 계산 프로그램 개선"
      ],
      "metadata": {
        "id": "o1aoIihhlrBZ"
      }
    },
    {
      "cell_type": "code",
      "source": [
        "input()"
      ],
      "metadata": {
        "id": "AFrQstowyjdC"
      },
      "execution_count": null,
      "outputs": []
    },
    {
      "cell_type": "code",
      "source": [
        "#반지름, 높이 값 할당\n",
        "rad = int(input(\"반지름의 값을 입력하세요: \"))\n",
        "hei = int(input(\"높이 값을 입력하세요: \"))\n",
        "#부피 출력\n",
        "print(\"부피의 값은\", 1 / 3 * 3.14 * rad ** 2 * hei, \"입니다.\")\n",
        "#겉넓이 출력\n",
        "print(\"겉넓이의 값은\", 3.14 * rad ** 2 + 3.14 * rad * hei, \"입니다.\")"
      ],
      "metadata": {
        "id": "jzJqpbKgluL7",
        "outputId": "73ee52c0-9d91-4aef-c4ec-d85d77984b02",
        "colab": {
          "base_uri": "https://localhost:8080/"
        }
      },
      "execution_count": 12,
      "outputs": [
        {
          "output_type": "stream",
          "name": "stdout",
          "text": [
            "반지름의 값을 입력하세요: 20\n",
            "높이 값을 입력하세요: 30\n",
            "부피의 값은 12559.999999999998 입니다.\n",
            "겉넓이의 값은 3140.0 입니다.\n"
          ]
        }
      ]
    }
  ]
}